{
 "cells": [
  {
   "cell_type": "code",
   "execution_count": 12,
   "metadata": {},
   "outputs": [],
   "source": [
    "import provider\n",
    "import os\n",
    "from glumpy import app, gloo, gl"
   ]
  },
  {
   "cell_type": "code",
   "execution_count": 13,
   "metadata": {},
   "outputs": [],
   "source": [
    "BASE_DIR = '/home/mjia/Documents/ShapeCompletion/pointnet'"
   ]
  },
  {
   "cell_type": "code",
   "execution_count": 14,
   "metadata": {},
   "outputs": [],
   "source": [
    "TRAIN_FILES = provider.getDataFiles(os.path.join(BASE_DIR, 'data/modelnet40_ply_hdf5_2048/train_files.txt'))"
   ]
  },
  {
   "cell_type": "code",
   "execution_count": 15,
   "metadata": {},
   "outputs": [
    {
     "name": "stdout",
     "output_type": "stream",
     "text": [
      "['data/modelnet40_ply_hdf5_2048/ply_data_train0.h5', 'data/modelnet40_ply_hdf5_2048/ply_data_train1.h5', 'data/modelnet40_ply_hdf5_2048/ply_data_train2.h5', 'data/modelnet40_ply_hdf5_2048/ply_data_train3.h5', 'data/modelnet40_ply_hdf5_2048/ply_data_train4.h5']\n"
     ]
    }
   ],
   "source": [
    "print(TRAIN_FILES)"
   ]
  },
  {
   "cell_type": "code",
   "execution_count": 16,
   "metadata": {},
   "outputs": [],
   "source": [
    "current_data, current_label = provider.loadDataFile(TRAIN_FILES[1])"
   ]
  },
  {
   "cell_type": "code",
   "execution_count": 17,
   "metadata": {},
   "outputs": [
    {
     "name": "stdout",
     "output_type": "stream",
     "text": [
      "(2048, 2048, 3)\n"
     ]
    }
   ],
   "source": [
    "print(current_data.shape)"
   ]
  },
  {
   "cell_type": "code",
   "execution_count": 18,
   "metadata": {},
   "outputs": [],
   "source": [
    "cloud = current_data[0, :, :]"
   ]
  },
  {
   "cell_type": "code",
   "execution_count": 19,
   "metadata": {},
   "outputs": [
    {
     "name": "stderr",
     "output_type": "stream",
     "text": [
      "usage: ipykernel_launcher.py [-h]\n",
      "                             [--backend {glfw,sdl2,qt5,pyside,pyglet,sdl,freeglut,osxglut}]\n",
      "                             [--record] [--interactive]\n",
      "                             [--framerate FRAMERATE] [--display-fps] [--debug]\n",
      "                             [--size SIZE] [--position POSITION]\n",
      "                             [--single-buffer] [--stereo] [--vsync VSYNC]\n",
      "                             [--srgb] [--depth-size DEPTH_SIZE]\n",
      "                             [--stencil-size STENCIL_SIZE] [--gl-api {GL,ES}]\n",
      "                             [--gl-profile {none,core,compatibility}]\n",
      "                             [--gl-version GL_VERSION]\n",
      "ipykernel_launcher.py: error: argument --framerate/-f: invalid int value: '/run/user/1000/jupyter/kernel-e30a9cda-cde8-48b0-b068-d8a28e9401b3.json'\n"
     ]
    },
    {
     "ename": "SystemExit",
     "evalue": "2",
     "output_type": "error",
     "traceback": [
      "An exception has occurred, use %tb to see the full traceback.\n",
      "\u001b[0;31mSystemExit\u001b[0m\u001b[0;31m:\u001b[0m 2\n"
     ]
    }
   ],
   "source": []
  },
  {
   "cell_type": "code",
   "execution_count": null,
   "metadata": {},
   "outputs": [],
   "source": []
  }
 ],
 "metadata": {
  "kernelspec": {
   "display_name": "Python 2",
   "language": "python",
   "name": "python2"
  },
  "language_info": {
   "codemirror_mode": {
    "name": "ipython",
    "version": 3
   },
   "file_extension": ".py",
   "mimetype": "text/x-python",
   "name": "python",
   "nbconvert_exporter": "python",
   "pygments_lexer": "ipython3",
   "version": "3.5.2"
  }
 },
 "nbformat": 4,
 "nbformat_minor": 2
}
