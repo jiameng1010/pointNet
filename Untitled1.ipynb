{
 "cells": [
  {
   "cell_type": "code",
   "execution_count": 1,
   "metadata": {},
   "outputs": [],
   "source": [
    "from pyntcloud import PyntCloud\n",
    "import numpy as np\n",
    "import trimesh\n",
    "import h5py\n",
    "from trimesh import sample, ray, triangles\n",
    "from trimesh.ray.ray_triangle import RayMeshIntersector, ray_triangle_id\n",
    "import pandas as pd"
   ]
  },
  {
   "cell_type": "code",
   "execution_count": 104,
   "metadata": {},
   "outputs": [],
   "source": [
    "cloud = PyntCloud.from_file(\"/home/mjia/Documents/ShapeCompletion/ModelNet40/flower_pot/train/flower_pot_0014.off\")\n",
    "samples = cloud.get_sample(name='mesh_random_sampling', as_PyntCloud=True, n=1024)"
   ]
  },
  {
   "cell_type": "code",
   "execution_count": 105,
   "metadata": {},
   "outputs": [
    {
     "data": {
      "text/html": [
       "\n",
       "        <iframe\n",
       "            width=\"800\"\n",
       "            height=\"500\"\n",
       "            src=\"pyntcloud_plot.html\"\n",
       "            frameborder=\"0\"\n",
       "            allowfullscreen\n",
       "        ></iframe>\n",
       "        "
      ],
      "text/plain": [
       "<IPython.lib.display.IFrame at 0x7f9e1575fb38>"
      ]
     },
     "execution_count": 105,
     "metadata": {},
     "output_type": "execute_result"
    }
   ],
   "source": [
    "samples.plot(mesh=True)"
   ]
  },
  {
   "cell_type": "code",
   "execution_count": 40,
   "metadata": {
    "scrolled": true
   },
   "outputs": [
    {
     "data": {
      "text/plain": [
       "True"
      ]
     },
     "execution_count": 40,
     "metadata": {},
     "output_type": "execute_result"
    }
   ],
   "source": [
    "mesh = trimesh.load('../ModelNet40/bottle/train/bottle_0009.off')\n",
    "mesh.is_watertight"
   ]
  },
  {
   "cell_type": "code",
   "execution_count": 41,
   "metadata": {},
   "outputs": [
    {
     "data": {
      "text/plain": [
       "<trimesh.scene.scene.Scene at 0x7fc791c41b70>"
      ]
     },
     "execution_count": 41,
     "metadata": {},
     "output_type": "execute_result"
    }
   ],
   "source": [
    "mesh.show()"
   ]
  },
  {
   "cell_type": "code",
   "execution_count": 42,
   "metadata": {},
   "outputs": [],
   "source": [
    "def viewpoint_sample(mesh, n, viewpoint):\n",
    "    #this method retures a n*3 array that indicates the pionts sampled from the visible surface\n",
    "    \n",
    "    init_sample = sample.sample_surface(mesh, 3*n)                             \n",
    "                                   \n",
    "    ray_origins = np.empty((3*n, 3), dtype=float)\n",
    "    ray_origins[:,0].fill(viewpoint[0])\n",
    "    ray_origins[:,1].fill(viewpoint[1]) \n",
    "    ray_origins[:,2].fill(viewpoint[2])\n",
    "    ray_directions = init_sample - ray_origins\n",
    "    \n",
    "    #mesh.rtree = triangles.bounds_tree\n",
    "    #r = RayMeshIntersector(mesh)\n",
    "    #[index_tri, index_ray, location] = r.intersects_id(ray_origins, ray_directions, return_locations=True, multiple_hits=False)\n",
    "    #[index_tri, index_ray, location] = ray_triangle_id(mesh.triangles, ray_origins, ray_directions, multiple_hits=False)\n",
    "    [index_tri, index_ray, location] = ray_triangle_id(mesh.triangles, ray_origins, ray_directions, multiple_hits=False)\n",
    "    #print(index_ray)\n",
    "    #print(init_sample)\n",
    "    \n",
    "    #delete unseen\n",
    "    visible_index = []\n",
    "    for i in range(index_ray.shape[0]):\n",
    "        if not abs(location[i,0] + location[i,1] + location[i,2] - init_sample[index_ray[i],0] - init_sample[index_ray[i],1] - init_sample[index_ray[i],2])<0.01:\n",
    "            visible_index.append(False)\n",
    "        else:\n",
    "            visible_index.append(True)\n",
    "    number_of_visibles = 0\n",
    "    location_v = np.empty((n, 3))\n",
    "    for i in range(len(visible_index)):\n",
    "        if visible_index[i]:\n",
    "            location_v[number_of_visibles, :] = location[i, :]\n",
    "            number_of_visibles += 1\n",
    "            if number_of_visibles == n:\n",
    "                break\n",
    "    \n",
    "    return [location_v, init_sample]\n",
    "    \n",
    "\n",
    "viewpoint = np.array([30, 40, -500])\n",
    "#print(mesh.triangles)\n",
    "[location, init_sample] = viewpoint_sample(mesh, 404, viewpoint)"
   ]
  },
  {
   "cell_type": "code",
   "execution_count": 43,
   "metadata": {},
   "outputs": [
    {
     "name": "stdout",
     "output_type": "stream",
     "text": [
      "(404, 3)\n",
      "[[  4.90777887   5.85688006   0.        ]\n",
      " [  5.16804625   0.85057812   9.89805088]\n",
      " [  0.6840323    2.86445547  13.01374975]\n",
      " ..., \n",
      " [  0.35560315   4.14582215  11.47261693]\n",
      " [  5.55352369   5.47280031   9.39327288]\n",
      " [  1.3348297    5.88688357   1.85948269]]\n"
     ]
    }
   ],
   "source": [
    "print(location.shape)\n",
    "print(init_sample)"
   ]
  },
  {
   "cell_type": "code",
   "execution_count": 44,
   "metadata": {},
   "outputs": [
    {
     "data": {
      "text/html": [
       "\n",
       "        <iframe\n",
       "            width=\"800\"\n",
       "            height=\"500\"\n",
       "            src=\"pyntcloud_plot.html\"\n",
       "            frameborder=\"0\"\n",
       "            allowfullscreen\n",
       "        ></iframe>\n",
       "        "
      ],
      "text/plain": [
       "<IPython.lib.display.IFrame at 0x7fc791c0ef60>"
      ]
     },
     "execution_count": 44,
     "metadata": {},
     "output_type": "execute_result"
    }
   ],
   "source": [
    "sampled_mesh = location\n",
    "result = pd.DataFrame()\n",
    "\n",
    "result[\"x\"] = sampled_mesh[:, 0]\n",
    "result[\"y\"] = sampled_mesh[:, 1]\n",
    "result[\"z\"] = sampled_mesh[:, 2]\n",
    "PyntCloud(result).plot()"
   ]
  },
  {
   "cell_type": "code",
   "execution_count": 26,
   "metadata": {},
   "outputs": [],
   "source": [
    "def rescale(cloud):\n",
    "    maxx = max(cloud[:, 0])\n",
    "    minx = min(cloud[:, 0])\n",
    "    maxy = max(cloud[:, 1])\n",
    "    miny = min(cloud[:, 1])\n",
    "    maxz = max(cloud[:, 2])\n",
    "    minz = min(cloud[:, 2])\n",
    "    maxt = max(abs(maxx), abs(maxy), abs(maxz), abs(minx), abs(miny), abs(minz))\n",
    "    return (1/maxt) * cloud\n",
    "\n",
    "def shift(cloud):\n",
    "    mean = np.mean(cloud, axis=0)\n",
    "    for i in range(1024):\n",
    "        cloud[i, :] = cloud[i, :] - mean\n",
    "    return cloud"
   ]
  },
  {
   "cell_type": "code",
   "execution_count": 55,
   "metadata": {},
   "outputs": [
    {
     "name": "stdout",
     "output_type": "stream",
     "text": [
      "(32, 1024, 3)\n",
      "(1200, 3)\n",
      "(2224, 3)\n"
     ]
    },
    {
     "data": {
      "text/html": [
       "\n",
       "        <iframe\n",
       "            width=\"800\"\n",
       "            height=\"500\"\n",
       "            src=\"pyntcloud_plot.html\"\n",
       "            frameborder=\"0\"\n",
       "            allowfullscreen\n",
       "        ></iframe>\n",
       "        "
      ],
      "text/plain": [
       "<IPython.lib.display.IFrame at 0x7f98773251d0>"
      ]
     },
     "execution_count": 55,
     "metadata": {},
     "output_type": "execute_result"
    }
   ],
   "source": [
    "def add_box():\n",
    "    pc = []\n",
    "    for i in [-1.0, 1.0]:\n",
    "        for j in [-1.0, 1.0]:\n",
    "            for k in range(-50, 50, 1):\n",
    "                pc.append([i, j, k/50])\n",
    "                pc.append([i, k/50, j])\n",
    "                pc.append([k/50, i, j])\n",
    "    return pc\n",
    "    \n",
    "#h5f = h5py.File('/home/mjia/Documents/ShapeCompletion/pointnet/data/modelnet40_ply_hdf5_2048/train_all.h5', 'r')\n",
    "h5f = h5py.File('./log/gan_log/demo2080.h5', 'r')\n",
    "#h5f = h5py.File('./demo24976.h5', 'r')\n",
    "#h5f = h5py.File('./demo54547.h5', 'r')\n",
    "xuhao = 19\n",
    "#sampled_mesh = shift(h5f['data'][:][xuhao,:,:])\n",
    "#sampled_mesh = rescale(sampled_mesh)\n",
    "sampled_mesh = h5f['data'][:][xuhao,:,:]\n",
    "#print(h5f['label'][:][xuhao])\n",
    "#sampled_mesh = location\n",
    "print(h5f['data'][:].shape)\n",
    "#for i in range(1024):\n",
    "#    print(sampled_mesh[i,:])\n",
    "result = pd.DataFrame()\n",
    "\n",
    "box = add_box()\n",
    "boxx = np.array(box)\n",
    "print(boxx.shape)\n",
    "sampled_mesh = np.append(sampled_mesh, box, axis=0)\n",
    "print(sampled_mesh.shape)\n",
    "\n",
    "result[\"x\"] = sampled_mesh[:, 0]\n",
    "result[\"y\"] = sampled_mesh[:, 1]\n",
    "result[\"z\"] = sampled_mesh[:, 2]\n",
    "pointcloud1 = PyntCloud(result)\n",
    "pointcloud1.plot(point_size=0.001)"
   ]
  },
  {
   "cell_type": "code",
   "execution_count": 3,
   "metadata": {},
   "outputs": [],
   "source": [
    "h5f = h5py.File('./data/modelnet40_ply_hdf5_2048/train_all.h5', 'r')"
   ]
  },
  {
   "cell_type": "code",
   "execution_count": 11,
   "metadata": {},
   "outputs": [
    {
     "name": "stdout",
     "output_type": "stream",
     "text": [
      "(9840, 1024, 3)\n",
      "[[-0.00533015  0.00033353  0.00084728]\n",
      " [ 0.00166411  0.00675439  0.00079916]\n",
      " [-0.00162905  0.00054122  0.00486668]\n",
      " ..., \n",
      " [ 0.00070838 -0.00899127  0.00478686]\n",
      " [ 0.0011311  -0.00755816  0.00030548]\n",
      " [ 0.00870524 -0.00341575 -0.00053334]]\n",
      "[[ 0.05999089  0.00519189  0.1802285 ]\n",
      " [ 0.0138382   0.08849573  0.01382949]\n",
      " [ 0.04250559  0.15291431  0.15922078]\n",
      " ..., \n",
      " [ 0.00170043  0.26141086  0.10873044]\n",
      " [ 0.02137867  0.20398425  0.00155938]\n",
      " [ 0.23114228  0.10506077  0.00216643]]\n"
     ]
    }
   ],
   "source": [
    "points = h5f['data'][:]\n",
    "print(points.shape)\n",
    "print(np.mean(points, axis=1))\n",
    "print(np.var(points, axis=1))"
   ]
  }
 ],
 "metadata": {
  "celltoolbar": "Raw Cell Format",
  "kernelspec": {
   "display_name": "Python 3",
   "language": "python",
   "name": "python3"
  },
  "language_info": {
   "codemirror_mode": {
    "name": "ipython",
    "version": 3
   },
   "file_extension": ".py",
   "mimetype": "text/x-python",
   "name": "python",
   "nbconvert_exporter": "python",
   "pygments_lexer": "ipython3",
   "version": "3.5.2"
  }
 },
 "nbformat": 4,
 "nbformat_minor": 1
}
