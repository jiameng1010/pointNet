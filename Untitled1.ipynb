{
 "cells": [
  {
   "cell_type": "code",
   "execution_count": 1,
   "metadata": {},
   "outputs": [],
   "source": [
    "from pyntcloud import PyntCloud\n",
    "import numpy as np\n",
    "import trimesh\n",
    "from trimesh import sample, ray, triangles\n",
    "from trimesh.ray.ray_triangle import RayMeshIntersector, ray_triangle_id\n",
    "import pandas as pd"
   ]
  },
  {
   "cell_type": "code",
   "execution_count": 2,
   "metadata": {},
   "outputs": [],
   "source": [
    "cloud = PyntCloud.from_file(\"/home/mjia/Documents/ShapeCompletion/test.ply\")\n",
    "samples = cloud.get_sample(name='mesh_random_sampling', as_PyntCloud=True, n=1024)"
   ]
  },
  {
   "cell_type": "code",
   "execution_count": 3,
   "metadata": {},
   "outputs": [
    {
     "data": {
      "text/html": [
       "\n",
       "        <iframe\n",
       "            width=\"800\"\n",
       "            height=\"500\"\n",
       "            src=\"pyntcloud_plot.html\"\n",
       "            frameborder=\"0\"\n",
       "            allowfullscreen\n",
       "        ></iframe>\n",
       "        "
      ],
      "text/plain": [
       "<IPython.lib.display.IFrame at 0x7ff53f640668>"
      ]
     },
     "execution_count": 3,
     "metadata": {},
     "output_type": "execute_result"
    }
   ],
   "source": [
    "samples.plot(mesh=True)"
   ]
  },
  {
   "cell_type": "code",
   "execution_count": 13,
   "metadata": {
    "scrolled": true
   },
   "outputs": [
    {
     "data": {
      "text/plain": [
       "False"
      ]
     },
     "execution_count": 13,
     "metadata": {},
     "output_type": "execute_result"
    }
   ],
   "source": [
    "mesh = trimesh.load('../ModelNet40/desk/train/desk_0005.off')\n",
    "mesh.is_watertight"
   ]
  },
  {
   "cell_type": "code",
   "execution_count": 14,
   "metadata": {},
   "outputs": [
    {
     "data": {
      "text/plain": [
       "<trimesh.scene.scene.Scene at 0x7ff55442c0b8>"
      ]
     },
     "execution_count": 14,
     "metadata": {},
     "output_type": "execute_result"
    }
   ],
   "source": [
    "mesh.show()"
   ]
  },
  {
   "cell_type": "code",
   "execution_count": 65,
   "metadata": {},
   "outputs": [],
   "source": [
    "def viewpoint_sample(mesh, n, viewpoint):\n",
    "    #this method retures a n*3 array that indicates the pionts sampled from the visible surface\n",
    "    \n",
    "    init_sample = sample.sample_surface(mesh, 3*n)                             \n",
    "                                   \n",
    "    ray_origins = np.empty((3*n, 3), dtype=float)\n",
    "    ray_origins[:,0].fill(viewpoint[0])\n",
    "    ray_origins[:,1].fill(viewpoint[1]) \n",
    "    ray_origins[:,2].fill(viewpoint[2])\n",
    "    ray_directions = init_sample - ray_origins\n",
    "    \n",
    "    #mesh.rtree = triangles.bounds_tree\n",
    "    #r = RayMeshIntersector(mesh)\n",
    "    #[index_tri, index_ray, location] = r.intersects_id(ray_origins, ray_directions, return_locations=True, multiple_hits=False)\n",
    "    #[index_tri, index_ray, location] = ray_triangle_id(mesh.triangles, ray_origins, ray_directions, multiple_hits=False)\n",
    "    [index_tri, index_ray, location] = ray_triangle_id(mesh.triangles, ray_origins, ray_directions, multiple_hits=False)\n",
    "    #print(index_ray)\n",
    "    #print(init_sample)\n",
    "    \n",
    "    #delete unseen\n",
    "    visible_index = []\n",
    "    for i in range(index_ray.shape[0]):\n",
    "        if not abs(location[i,0] + location[i,1] + location[i,2] - init_sample[index_ray[i],0] - init_sample[index_ray[i],1] - init_sample[index_ray[i],2])<0.01:\n",
    "            visible_index.append(False)\n",
    "        else:\n",
    "            visible_index.append(True)\n",
    "    number_of_visibles = 0\n",
    "    location_v = np.empty((n, 3))\n",
    "    for i in range(len(visible_index)):\n",
    "        if visible_index[i]:\n",
    "            location_v[number_of_visibles, :] = location[i, :]\n",
    "            number_of_visibles += 1\n",
    "            if number_of_visibles == n:\n",
    "                break\n",
    "    \n",
    "    return [location_v, init_sample]\n",
    "    \n",
    "\n",
    "viewpoint = np.array([300, 400, 500])\n",
    "#print(mesh.triangles)\n",
    "[location, init_sample] = viewpoint_sample(mesh, 2048, viewpoint)"
   ]
  },
  {
   "cell_type": "code",
   "execution_count": 66,
   "metadata": {},
   "outputs": [
    {
     "name": "stdout",
     "output_type": "stream",
     "text": [
      "[[  4.68402063e+000   4.94094500e+001   3.78228033e+000]\n",
      " [  2.33275200e+001   1.77570500e+001   3.43946246e+001]\n",
      " [  3.30123124e+000  -3.02160360e+001  -1.37795000e+000]\n",
      " ..., \n",
      " [  6.95105043e-310   6.95105043e-310   6.95105043e-310]\n",
      " [  6.95105043e-310   6.95105043e-310   6.95105043e-310]\n",
      " [  6.95105043e-310   6.95105043e-310   6.95105043e-310]]\n",
      "[[  3.94862832  19.32607624  25.20555   ]\n",
      " [  4.68402063  49.40945      3.78228033]\n",
      " [ 23.32751998  17.75705     34.39462465]\n",
      " ..., \n",
      " [ 20.80121627  11.63068788  41.53545   ]\n",
      " [  3.78689514  24.00948174  -5.46095   ]\n",
      " [  2.53520416 -49.40945     18.45126648]]\n"
     ]
    }
   ],
   "source": [
    "print(location)\n",
    "print(init_sample)"
   ]
  },
  {
   "cell_type": "code",
   "execution_count": 67,
   "metadata": {},
   "outputs": [
    {
     "data": {
      "text/html": [
       "\n",
       "        <iframe\n",
       "            width=\"800\"\n",
       "            height=\"500\"\n",
       "            src=\"pyntcloud_plot.html\"\n",
       "            frameborder=\"0\"\n",
       "            allowfullscreen\n",
       "        ></iframe>\n",
       "        "
      ],
      "text/plain": [
       "<IPython.lib.display.IFrame at 0x7ff522c72358>"
      ]
     },
     "execution_count": 67,
     "metadata": {},
     "output_type": "execute_result"
    }
   ],
   "source": [
    "sampled_mesh = location\n",
    "if not result.empty:\n",
    "    del result\n",
    "result = pd.DataFrame()\n",
    "\n",
    "result[\"x\"] = sampled_mesh[:, 0]\n",
    "result[\"y\"] = sampled_mesh[:, 1]\n",
    "result[\"z\"] = sampled_mesh[:, 2]\n",
    "PyntCloud(result).plot()"
   ]
  },
  {
   "cell_type": "code",
   "execution_count": null,
   "metadata": {
    "collapsed": true
   },
   "outputs": [],
   "source": []
  },
  {
   "cell_type": "code",
   "execution_count": null,
   "metadata": {
    "collapsed": true
   },
   "outputs": [],
   "source": []
  }
 ],
 "metadata": {
  "celltoolbar": "Raw Cell Format",
  "kernelspec": {
   "display_name": "Python 3",
   "language": "python",
   "name": "python3"
  },
  "language_info": {
   "codemirror_mode": {
    "name": "ipython",
    "version": 3
   },
   "file_extension": ".py",
   "mimetype": "text/x-python",
   "name": "python",
   "nbconvert_exporter": "python",
   "pygments_lexer": "ipython3",
   "version": "3.5.2"
  }
 },
 "nbformat": 4,
 "nbformat_minor": 1
}
